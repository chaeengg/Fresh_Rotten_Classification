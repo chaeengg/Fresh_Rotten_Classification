{
 "cells": [
  {
   "cell_type": "code",
   "execution_count": null,
   "metadata": {},
   "outputs": [],
   "source": [
    "from PIL import Image, ImageOps\n",
    "import numpy as np\n",
    "import os\n",
    "\n",
    "def normalize_image(image_path, output_folder):\n",
    "    # 이미지 로드\n",
    "    image = Image.open(image_path).convert('L')  # 'L' 모드는 흑백 모드입니다\n",
    "\n",
    "    # numpy 배열로 변환\n",
    "    image_np = np.array(image)\n",
    "\n",
    "    # 정규화\n",
    "    normalized_image_np = (image_np - np.min(image_np)) * (255 / (np.max(image_np) - np.min(image_np)))\n",
    "\n",
    "    # PIL 이미지로 변환\n",
    "    normalized_image = Image.fromarray(normalized_image_np.astype(np.uint8))\n",
    "\n",
    "    # 출력 경로 설정\n",
    "    file_name = os.path.basename(image_path)\n",
    "    output_path = os.path.join(output_folder, file_name)\n",
    "\n",
    "    # 이미지 저장\n",
    "    normalized_image.save(output_path)\n",
    "\n",
    "def process_all_images(input_folder, output_folder):\n",
    "    # 출력 폴더가 없는 경우 생성\n",
    "    os.makedirs(output_folder, exist_ok=True)\n",
    "\n",
    "    # 입력 폴더 내의 모든 파일 처리\n",
    "    for file_name in os.listdir(input_folder):\n",
    "        file_path = os.path.join(input_folder, file_name)\n",
    "        if os.path.isfile(file_path):\n",
    "            normalize_image(file_path, output_folder)\n",
    "\n",
    "if __name__ == \"__main__\":\n",
    "    # 인풋 폴더와 아웃풋 폴더 경로 지정\n",
    "    input_folder = r'저장할 폴더 경로'\n",
    "    output_folder = 'output_rotten'\n",
    "\n",
    "    # 모든 이미지 정규화 및 저장\n",
    "    process_all_images(input_folder, output_folder)\n"
   ]
  }
 ],
 "metadata": {
  "kernelspec": {
   "display_name": "Python 3",
   "language": "python",
   "name": "python3"
  },
  "language_info": {
   "name": "python",
   "version": "3.13.1"
  }
 },
 "nbformat": 4,
 "nbformat_minor": 2
}
